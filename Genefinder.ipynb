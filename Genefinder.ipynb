{
 "cells": [
  {
   "cell_type": "code",
   "execution_count": 1023,
   "id": "88abe1a4-8583-493d-a4ef-c022f15108b0",
   "metadata": {},
   "outputs": [],
   "source": []
  },
  {
   "cell_type": "code",
   "execution_count": 1024,
   "id": "7b62cff4-1e07-4e79-b7ad-71795e88bf93",
   "metadata": {},
   "outputs": [],
   "source": []
  },
  {
   "cell_type": "code",
   "execution_count": 1025,
   "id": "87994f8a-c757-49cb-9409-fb98241819dc",
   "metadata": {},
   "outputs": [],
   "source": []
  },
  {
   "cell_type": "code",
   "execution_count": 1026,
   "id": "63d8ea12-d05b-4eea-a5f2-87cdb30a5dd7",
   "metadata": {},
   "outputs": [],
   "source": [
    "%run /Users/sionawadhawan/Downloads/aminoAcids.py "
   ]
  },
  {
   "cell_type": "code",
   "execution_count": 1027,
   "id": "1816158d-141d-43f1-aa7e-641a7edad480",
   "metadata": {},
   "outputs": [],
   "source": [
    "def amino(codon):\n",
    "    flist = []\n",
    "    for i in range(len(aa)):\n",
    "        if codon in codons[i]:\n",
    "            return aa[i]\n"
   ]
  },
  {
   "cell_type": "code",
   "execution_count": 1028,
   "id": "4740f194-3848-4f61-8025-caa665425856",
   "metadata": {},
   "outputs": [
    {
     "data": {
      "text/plain": [
       "'SPGF'"
      ]
     },
     "execution_count": 1028,
     "metadata": {},
     "output_type": "execute_result"
    }
   ],
   "source": [
    "def codingStrandToAA(DNA):\n",
    "    alist = []\n",
    "    for i in range(0,len(DNA),3):\n",
    "        codon = DNA[i: i + 3]\n",
    "        if len(codon) < 3:\n",
    "            break\n",
    "        alist.append(amino(codon))\n",
    "        flist = ''.join(alist)\n",
    "    return flist\n"
   ]
  },
  {
   "cell_type": "code",
   "execution_count": 1029,
   "id": "ad744bfe-eea5-46d5-8871-8d2d027c9857",
   "metadata": {},
   "outputs": [],
   "source": [
    "def compBase(N):\n",
    "    cbase = \"\"\n",
    "    if N == \"A\":\n",
    "        cbase = \"T\"\n",
    "    elif N == \"T\":\n",
    "        cbase = \"A\"\n",
    "    elif N == \"C\":\n",
    "        cbase = \"G\"\n",
    "    else:\n",
    "        cbase = \"C\"\n",
    "    return cbase\n",
    "\n"
   ]
  },
  {
   "cell_type": "code",
   "execution_count": 1030,
   "id": "8dddf947-ec00-4faa-8ec5-5f5cfaec145e",
   "metadata": {},
   "outputs": [],
   "source": [
    "def reverse(s):\n",
    "    rlist = []\n",
    "    for i in range(len(s)):\n",
    "        rlist.append(s[len(s)-i-1])\n",
    "    flist = ''.join(rlist)\n",
    "    return flist\n",
    "\n"
   ]
  },
  {
   "cell_type": "code",
   "execution_count": 1031,
   "id": "3757dacd-383a-468c-90e6-d5e24a722ef9",
   "metadata": {},
   "outputs": [],
   "source": [
    "def reversecomplement(DNA):\n",
    "    complist = []\n",
    "    for i in DNA:\n",
    "        complist.append(compBase(i))\n",
    "    flist = ''.join(complist)\n",
    "    return reverse(flist)\n",
    "\n"
   ]
  },
  {
   "cell_type": "code",
   "execution_count": 1032,
   "id": "e1b626ed-7ee1-4bcb-baa0-28ebac00ca2a",
   "metadata": {},
   "outputs": [
    {
     "data": {
      "text/plain": [
       "'ATGAGATATG'"
      ]
     },
     "execution_count": 1032,
     "metadata": {},
     "output_type": "execute_result"
    }
   ],
   "source": [
    "def restOfORF(DNA):\n",
    "    stopcodons = ['TAG', 'TAA', 'TGA']\n",
    "    for i in range(0, len(DNA), 3):\n",
    "        if DNA[i:i+3] in stopcodons:\n",
    "            DNA = DNA[0:i]\n",
    "    return DNA\n",
    "\n"
   ]
  },
  {
   "cell_type": "code",
   "execution_count": 1033,
   "id": "97d09f4e-ade3-469e-b4d0-5416bef30163",
   "metadata": {},
   "outputs": [],
   "source": [
    "#Retrofitting Functions"
   ]
  },
  {
   "cell_type": "code",
   "execution_count": 1034,
   "id": "db61db97-aecf-49ad-a8e9-7e1101edfdde",
   "metadata": {},
   "outputs": [
    {
     "data": {
      "text/plain": [
       "['ATGCCCATGGGGAAATTT']"
      ]
     },
     "execution_count": 1034,
     "metadata": {},
     "output_type": "execute_result"
    }
   ],
   "source": [
    "def oneFrameV2(DNA):\n",
    "    i = 0\n",
    "    seq_list = []\n",
    "    while i < len(DNA):\n",
    "        if DNA[i:i+3] == \"ATG\":\n",
    "            orf_sequence = restOfORF(DNA[i:])\n",
    "            seq_list.append(orf_sequence)\n",
    "            i += len(orf_sequence)\n",
    "            continue\n",
    "        i += 3\n",
    "    return seq_list\n",
    "    \n"
   ]
  },
  {
   "cell_type": "code",
   "execution_count": 1035,
   "id": "6e5fde7d-3050-4d6e-b2c0-aca7c22d2f95",
   "metadata": {},
   "outputs": [
    {
     "data": {
      "text/plain": [
       "'ATGCCCATGGGGAAATTT'"
      ]
     },
     "execution_count": 1035,
     "metadata": {},
     "output_type": "execute_result"
    }
   ],
   "source": [
    "def longestORFV2(DNA):\n",
    "    l1 = oneFrameV2(DNA)\n",
    "    l2 = oneFrameV2(DNA[1:])\n",
    "    l3 = oneFrameV2(DNA[2:])\n",
    "    framelist = l1+l2+l3\n",
    "    max_len = ''\n",
    "    max_val = 0\n",
    "    for orf in framelist:\n",
    "        if len(orf) > max_val:\n",
    "            max_len = orf\n",
    "            max_val = len(orf)\n",
    "    return max_len\n",
    "\n",
    "\n",
    "  \n"
   ]
  },
  {
   "cell_type": "code",
   "execution_count": 1036,
   "id": "948dd2dc-5103-4797-bf23-7678084b9777",
   "metadata": {},
   "outputs": [
    {
     "data": {
      "text/plain": [
       "'ATGAAA'"
      ]
     },
     "execution_count": 1036,
     "metadata": {},
     "output_type": "execute_result"
    }
   ],
   "source": [
    "def longestORFBothStrand(DNA):\n",
    "    strand_list = [longestORFV2(DNA), longestORFV2(reversecomplement(DNA))]\n",
    "    return max(strand_list, key = len)\n",
    "    \n",
    "\n"
   ]
  },
  {
   "cell_type": "code",
   "execution_count": 1037,
   "id": "18e5f677-c819-4c8b-9429-6745a1083867",
   "metadata": {},
   "outputs": [],
   "source": [
    "def collapse(L):\n",
    "    output = \"\" \n",
    "    for s in L:\n",
    "        output = output + s\n",
    "    return output\n"
   ]
  },
  {
   "cell_type": "code",
   "execution_count": 1038,
   "id": "a4a44322-063a-4240-9596-d49edb435fc1",
   "metadata": {},
   "outputs": [],
   "source": [
    "def loadSeq(fileName):\n",
    "    f = open(fileName)\n",
    "    linesList = f.readlines()[1:]\n",
    "    f.close()\n",
    "    newList = []\n",
    "    for line in linesList:\n",
    "        newList.append(line[:-1])\n",
    "        flist = ''.join(newList)\n",
    "    return flist"
   ]
  },
  {
   "cell_type": "code",
   "execution_count": 1039,
   "id": "c1a2277b-b8cc-4819-bba7-54ed3e9f789a",
   "metadata": {},
   "outputs": [],
   "source": []
  },
  {
   "cell_type": "code",
   "execution_count": 1040,
   "id": "2a4d2663-a572-4530-8455-c1b01fa7af68",
   "metadata": {},
   "outputs": [],
   "source": [
    "import random \n",
    "def longestORFNoncoding(DNA, numReps):\n",
    "    coding_list = list(DNA)\n",
    "    flist = []\n",
    "    for i in range(numReps):\n",
    "        random.shuffle(coding_list)\n",
    "        flist.append(longestORFBothStrand(collapse(coding_list)))\n",
    "    return len(max(flist, key = len))               \n",
    "        \n",
    "  "
   ]
  },
  {
   "cell_type": "code",
   "execution_count": 1041,
   "id": "cb27285e-ee56-422d-a255-6cf80173ac06",
   "metadata": {},
   "outputs": [
    {
     "data": {
      "text/plain": [
       "576"
      ]
     },
     "execution_count": 1041,
     "metadata": {},
     "output_type": "execute_result"
    }
   ],
   "source": []
  },
  {
   "cell_type": "code",
   "execution_count": 1042,
   "id": "1df756b8-fe2f-40cc-80e9-2b8fa1ea79fc",
   "metadata": {},
   "outputs": [
    {
     "data": {
      "text/plain": [
       "[]"
      ]
     },
     "execution_count": 1042,
     "metadata": {},
     "output_type": "execute_result"
    }
   ],
   "source": [
    "def findORFs(DNA):\n",
    "    l1 = oneFrameV2(DNA)\n",
    "    l2 = oneFrameV2(DNA[1:])\n",
    "    l3 = oneFrameV2(DNA[2:])\n",
    "    framelist = l1+l2+l3\n",
    "    return framelist\n",
    "    \n",
    "  "
   ]
  },
  {
   "cell_type": "code",
   "execution_count": 1043,
   "id": "869be013-8a48-4876-991c-de547d5ca268",
   "metadata": {},
   "outputs": [
    {
     "data": {
      "text/plain": [
       "['ATGAAACAT', 'ATGTTTCAT']"
      ]
     },
     "execution_count": 1043,
     "metadata": {},
     "output_type": "execute_result"
    }
   ],
   "source": [
    "def findORFsBothStrands(DNA):\n",
    "    framelist = findORFs(DNA) + findORFs(reversecomplement(DNA))\n",
    "    return framelist \n"
   ]
  },
  {
   "cell_type": "code",
   "execution_count": 1044,
   "id": "59ee6759-474f-4070-bec8-7ea712f8a9eb",
   "metadata": {},
   "outputs": [
    {
     "data": {
      "text/plain": [
       "[3, 5]"
      ]
     },
     "execution_count": 1044,
     "metadata": {},
     "output_type": "execute_result"
    }
   ],
   "source": [
    "def getCoordinates(orf, DNA):\n",
    "    flist = []\n",
    "    FWDNA = DNA.find(orf)\n",
    "    RVDNA = DNA.find(reversecomplement(orf))\n",
    "    if FWDNA != -1:\n",
    "        flist = [FWDNA+1, FWDNA+len(orf)]\n",
    "    else:\n",
    "        flist = [RVDNA+1, RVDNA+len(orf)]          \n",
    "    return flist  \n",
    "\n"
   ]
  },
  {
   "cell_type": "code",
   "execution_count": 1045,
   "id": "9e79916d-24bd-4bfd-8245-c20d18e4e658",
   "metadata": {},
   "outputs": [],
   "source": [
    "def geneFinder(DNA, minLen):\n",
    "    flist = []\n",
    "    alllist = []\n",
    "    list = findORFsBothStrands(DNA)\n",
    "    for orf in list:\n",
    "        if len(orf) >= minLen:\n",
    "            flist = getCoordinates(orf, DNA) + [codingStrandToAA(orf[3:])] \n",
    "            alllist.append(flist)\n",
    "            alllist.sort()\n",
    "    return alllist\n",
    "    \n",
    "\n",
    "\n",
    "\n",
    "            \n",
    "       \n",
    "    "
   ]
  },
  {
   "cell_type": "code",
   "execution_count": null,
   "id": "2bc524e6-5850-48d4-8f1e-63cd5db271e3",
   "metadata": {},
   "outputs": [],
   "source": []
  },
  {
   "cell_type": "code",
   "execution_count": null,
   "id": "a38c501b-2098-418a-9720-e29b6cf9982c",
   "metadata": {},
   "outputs": [],
   "source": []
  },
  {
   "cell_type": "code",
   "execution_count": 1046,
   "id": "69543dbe-15c0-4ec3-8085-fbb192026bbb",
   "metadata": {},
   "outputs": [
    {
     "data": {
      "text/plain": [
       "768"
      ]
     },
     "execution_count": 1046,
     "metadata": {},
     "output_type": "execute_result"
    }
   ],
   "source": []
  },
  {
   "cell_type": "code",
   "execution_count": 1047,
   "id": "409c7bd2-9fa1-4d8d-91fe-f8d5d7a8ed36",
   "metadata": {
    "scrolled": true
   },
   "outputs": [
    {
     "data": {
      "text/plain": [
       "[[176,\n",
       "  1006,\n",
       "  'GIFASAGCGKTMLMHMLIEQTEADVFVIGLIGERGREVTEFVDMLRASHKKEKCVLVFATSDFPSVDRCNAAQLATTVAEYFRDQGKRVVLFIDSMTRYARALRDVALASGERPARRGYPASVFDNLPRLLERPGATSEGSITAFYTVLLESEEEADPMADEIRSILDGHLYLSRKLAGQGHYPAIDVLKSVSRVFGQVTTPTHAEQASAVRKLMTRLEELQLFIDLGEYRPGENIDNDRAMQMRDSLKAWLCQPVAQYSSFDDTLSGMNAFADQN'],\n",
       " [1430,\n",
       "  2437,\n",
       "  'GDVSAVSSSGNILLPQQDEVGGLSEALKKAVEKHKTEYSGDKKDRDYGDAFVMHKETALPLLLAAWRHGAPAKSEHHNGNVSGLHHNGKSELRIAEKLLKVTAEKSVGLISAEAKVDKSAALLSSKNRPLESVSGKKLSADLKAVESVSEVTDNATGISDDNIKALPGDNKAIAGEGVRKEGAPLARDVAPARMAAANTGKPEDKDHKKVKDVSQLPLQPTTIADLSQLTGGDEKMPLAAQSKPMMTIFPTADGVKGEDSSLTYRFQRWGNDYSVNIQARQAGEFSLIPSNTQVEHRLHDQWQNGNPQRWHLTRDDQQNPQQQQHRQQSGEEDDA'],\n",
       " [2440,\n",
       "  3348,\n",
       "  'SLRVRQIDRREWLLAQTATECQRHGREATLEYPTRQGMWVRLSDAEKRWSAWIKPGDWLEHVSPALAGAAVSAGAEHLVVPWLAATERPFELPVPHLSCRRLCVENPVPGSALPEGKLLHIMSDRGGLWFEHLPELPAVGGGRPKMLRWPLRFVIGSSDTQRSLLGRIGIGDVLLIRTSRAEVYCYAKKLGHFNRVEGGIIVETLDIQHIEEENNTTETAETLPGLNQLPVKLEFVLYRKNVTLAELEAMGQQQLLSLPTNAELNVEIMANGVLLGNGELVQMNDTLGVEIHEWLSESGNGE'],\n",
       " [4305,\n",
       "  5093,\n",
       "  'FYALYFEIHHLVASAALGFARVAPIFFFLPFLNSGVLSGAPRNAIIILVALGVWPHALNEAPPFLSVAMIPLVLQEAAVGVMLGCLLSWPFWVMHALGCIIDNQRGATLSSSIDPANGIDTSEMANFLNMFAAVVYLQNGGLVTMVDVLNKSYQLCDPMNECTPSLPPLLTFINQVAQNALVLASPVVLVLLLSEVFLGLLSRFAPQMNAFAISLTVKSGIAVLIMLLYFSPVLPDNVLRLSFQATGLSSWFYERGATHVLE'],\n",
       " [5083,\n",
       "  6150,\n",
       "  'SSNKTEKPTKKRLEDSAKKGQSFKSKDLIIACLTLGGIAYLVSYGSFNEFMGIIKIIIADNFDQSMADYSLAVFGIGLKYLIPFMLLCLVCSALPALLQAGFVLATEALKPNLSALNPVEGAKKLFSMRTVKDTVKTLLYLSSFVVAAIICWKKYKVEIFSQLNGNIVGIAVIWRELLLALVLTCLACALIVLLLDAIAEYFLTMKDMKMDKEEVKREMKEQEGNPEVKSKRREVHMEILSEQVKSDIENSRLIVANPTHITIGIYFKPELMPIPMISVYETNQRALAVRAYAEKVGVPVIVDIKLARSLFKTHRRYDLVSLEEIDEVLRLLVWLEEVENAGKDVIQPQENEVRH']]"
      ]
     },
     "execution_count": 1047,
     "metadata": {},
     "output_type": "execute_result"
    }
   ],
   "source": []
  },
  {
   "cell_type": "code",
   "execution_count": 1048,
   "id": "d3becfd1-667d-450b-a607-8c3ed57575c7",
   "metadata": {},
   "outputs": [
    {
     "name": "stdout",
     "output_type": "stream",
     "text": [
      "ORF Sequence 1 Coordinates: [176, 1006] Proteins: ['GIFASAGCGKTMLMHMLIEQTEADVFVIGLIGERGREVTEFVDMLRASHKKEKCVLVFATSDFPSVDRCNAAQLATTVAEYFRDQGKRVVLFIDSMTRYARALRDVALASGERPARRGYPASVFDNLPRLLERPGATSEGSITAFYTVLLESEEEADPMADEIRSILDGHLYLSRKLAGQGHYPAIDVLKSVSRVFGQVTTPTHAEQASAVRKLMTRLEELQLFIDLGEYRPGENIDNDRAMQMRDSLKAWLCQPVAQYSSFDDTLSGMNAFADQN']\n",
      "ORF Sequence 2 Coordinates: [1430, 2437] Proteins: ['GDVSAVSSSGNILLPQQDEVGGLSEALKKAVEKHKTEYSGDKKDRDYGDAFVMHKETALPLLLAAWRHGAPAKSEHHNGNVSGLHHNGKSELRIAEKLLKVTAEKSVGLISAEAKVDKSAALLSSKNRPLESVSGKKLSADLKAVESVSEVTDNATGISDDNIKALPGDNKAIAGEGVRKEGAPLARDVAPARMAAANTGKPEDKDHKKVKDVSQLPLQPTTIADLSQLTGGDEKMPLAAQSKPMMTIFPTADGVKGEDSSLTYRFQRWGNDYSVNIQARQAGEFSLIPSNTQVEHRLHDQWQNGNPQRWHLTRDDQQNPQQQQHRQQSGEEDDA']\n",
      "ORF Sequence 3 Coordinates: [2440, 3348] Proteins: ['SLRVRQIDRREWLLAQTATECQRHGREATLEYPTRQGMWVRLSDAEKRWSAWIKPGDWLEHVSPALAGAAVSAGAEHLVVPWLAATERPFELPVPHLSCRRLCVENPVPGSALPEGKLLHIMSDRGGLWFEHLPELPAVGGGRPKMLRWPLRFVIGSSDTQRSLLGRIGIGDVLLIRTSRAEVYCYAKKLGHFNRVEGGIIVETLDIQHIEEENNTTETAETLPGLNQLPVKLEFVLYRKNVTLAELEAMGQQQLLSLPTNAELNVEIMANGVLLGNGELVQMNDTLGVEIHEWLSESGNGE']\n",
      "ORF Sequence 4 Coordinates: [4305, 5093] Proteins: ['FYALYFEIHHLVASAALGFARVAPIFFFLPFLNSGVLSGAPRNAIIILVALGVWPHALNEAPPFLSVAMIPLVLQEAAVGVMLGCLLSWPFWVMHALGCIIDNQRGATLSSSIDPANGIDTSEMANFLNMFAAVVYLQNGGLVTMVDVLNKSYQLCDPMNECTPSLPPLLTFINQVAQNALVLASPVVLVLLLSEVFLGLLSRFAPQMNAFAISLTVKSGIAVLIMLLYFSPVLPDNVLRLSFQATGLSSWFYERGATHVLE']\n",
      "ORF Sequence 5 Coordinates: [5083, 6150] Proteins: ['SSNKTEKPTKKRLEDSAKKGQSFKSKDLIIACLTLGGIAYLVSYGSFNEFMGIIKIIIADNFDQSMADYSLAVFGIGLKYLIPFMLLCLVCSALPALLQAGFVLATEALKPNLSALNPVEGAKKLFSMRTVKDTVKTLLYLSSFVVAAIICWKKYKVEIFSQLNGNIVGIAVIWRELLLALVLTCLACALIVLLLDAIAEYFLTMKDMKMDKEEVKREMKEQEGNPEVKSKRREVHMEILSEQVKSDIENSRLIVANPTHITIGIYFKPELMPIPMISVYETNQRALAVRAYAEKVGVPVIVDIKLARSLFKTHRRYDLVSLEEIDEVLRLLVWLEEVENAGKDVIQPQENEVRH']\n"
     ]
    }
   ],
   "source": [
    "def printgenes(geneslist):\n",
    "    count = 0\n",
    "    for list in geneslist:\n",
    "        coordinates = [list[0], list[1]]\n",
    "        proteins = [list[2]]\n",
    "        count += 1\n",
    "        print(\"ORF Sequence\",count, \"Coordinates:\", coordinates, \"Proteins:\", proteins)\n",
    "\n",
    "X73525 = loadSeq(\"X73525.fa\")        \n",
    "\n"
   ]
  },
  {
   "cell_type": "code",
   "execution_count": 1049,
   "id": "beb1c6c7-4cc9-4a26-aa98-769d2fbf3cdd",
   "metadata": {},
   "outputs": [],
   "source": []
  },
  {
   "cell_type": "code",
   "execution_count": 1050,
   "id": "806041f2-e62c-4f12-b0ee-3a91ab7417e3",
   "metadata": {},
   "outputs": [
    {
     "data": {
      "text/plain": [
       "831"
      ]
     },
     "execution_count": 1050,
     "metadata": {},
     "output_type": "execute_result"
    }
   ],
   "source": []
  },
  {
   "cell_type": "code",
   "execution_count": 1051,
   "id": "324905d9-33e0-45da-8cfb-88ee5051ac22",
   "metadata": {},
   "outputs": [
    {
     "name": "stdout",
     "output_type": "stream",
     "text": [
      "ORF Sequence 1 Coordinates: [14, 1642] Proteins: ['LKYEERKLNNLTLSSFSKVGVSNDARLYIAKENTDKAYVAPEKFSSKVLTWLGKMPLFKNTEVVQKHTENIRVQDQKILQTFLHALTEKYGETAVNDALLMSRINMNKPLTQRLAVQITECVKAADEGFINLIKSKDNVGVRNAALVIKGGDTKVAEKNNDVGAESKQPLLDIALKGLKRTLPQLEQMDGNSLRENFQEMASGNGPLRSLMTNLQNLNKIPEAKQLNDYVTTLTNIQVGVARFSQWGTCGGEVERWVDKASTHELTQAVKKIHVIAKELKNVTAELEKIEAGAPMPQTMSGPTLGLARFAVSSIPINQQTQVKLSDGMPVPVNTLTFDGKPVALAGSYPKNTPDALEAHMKMLLEKECSCLVVLTSEDQMQAKQLPPYFRGSYTFGEVHTNSQKVSSASQGEAIDQYNMQLSCGEKRYTIPVLHVKNWPDHQPLPSTDQLEYLADRVKNSNQNGAPGRSSSDKHLPMIHCLGGVGRTGTMAAALVLKDNPHSNLEQVRADFRDSRNNRMLEDASQFVQLKAMQAQLLMTTAS']\n"
     ]
    }
   ],
   "source": []
  },
  {
   "cell_type": "raw",
   "id": "c0446375-9a7b-4314-9dd3-84709aa39a9b",
   "metadata": {},
   "source": [
    "#X73525 ORFS:\n",
    "\n",
    "ORF Sequence 1 Coordinates: [176, 1006] Proteins: ['GIFASAGCGKTMLMHMLIEQTEADVFVIGLIGERGREVTEFVDMLRASHKKEKCVLVFATSDFPSVDRCNAAQLATTVAEYFRDQGKRVVLFIDSMTRYARALRDVALASGERPARRGYPASVFDNLPRLLERPGATSEGSITAFYTVLLESEEEADPMADEIRSILDGHLYLSRKLAGQGHYPAIDVLKSVSRVFGQVTTPTHAEQASAVRKLMTRLEELQLFIDLGEYRPGENIDNDRAMQMRDSLKAWLCQPVAQYSSFDDTLSGMNAFADQN']\n",
    "ORF Sequence 2 Coordinates: [1430, 2437] Proteins: ['GDVSAVSSSGNILLPQQDEVGGLSEALKKAVEKHKTEYSGDKKDRDYGDAFVMHKETALPLLLAAWRHGAPAKSEHHNGNVSGLHHNGKSELRIAEKLLKVTAEKSVGLISAEAKVDKSAALLSSKNRPLESVSGKKLSADLKAVESVSEVTDNATGISDDNIKALPGDNKAIAGEGVRKEGAPLARDVAPARMAAANTGKPEDKDHKKVKDVSQLPLQPTTIADLSQLTGGDEKMPLAAQSKPMMTIFPTADGVKGEDSSLTYRFQRWGNDYSVNIQARQAGEFSLIPSNTQVEHRLHDQWQNGNPQRWHLTRDDQQNPQQQQHRQQSGEEDDA']\n",
    "ORF Sequence 3 Coordinates: [2440, 3348] Proteins: ['SLRVRQIDRREWLLAQTATECQRHGREATLEYPTRQGMWVRLSDAEKRWSAWIKPGDWLEHVSPALAGAAVSAGAEHLVVPWLAATERPFELPVPHLSCRRLCVENPVPGSALPEGKLLHIMSDRGGLWFEHLPELPAVGGGRPKMLRWPLRFVIGSSDTQRSLLGRIGIGDVLLIRTSRAEVYCYAKKLGHFNRVEGGIIVETLDIQHIEEENNTTETAETLPGLNQLPVKLEFVLYRKNVTLAELEAMGQQQLLSLPTNAELNVEIMANGVLLGNGELVQMNDTLGVEIHEWLSESGNGE']\n",
    "ORF Sequence 4 Coordinates: [4305, 5093] Proteins: ['FYALYFEIHHLVASAALGFARVAPIFFFLPFLNSGVLSGAPRNAIIILVALGVWPHALNEAPPFLSVAMIPLVLQEAAVGVMLGCLLSWPFWVMHALGCIIDNQRGATLSSSIDPANGIDTSEMANFLNMFAAVVYLQNGGLVTMVDVLNKSYQLCDPMNECTPSLPPLLTFINQVAQNALVLASPVVLVLLLSEVFLGLLSRFAPQMNAFAISLTVKSGIAVLIMLLYFSPVLPDNVLRLSFQATGLSSWFYERGATHVLE']\n",
    "ORF Sequence 5 Coordinates: [5083, 6150] Proteins: ['SSNKTEKPTKKRLEDSAKKGQSFKSKDLIIACLTLGGIAYLVSYGSFNEFMGIIKIIIADNFDQSMADYSLAVFGIGLKYLIPFMLLCLVCSALPALLQAGFVLATEALKPNLSALNPVEGAKKLFSMRTVKDTVKTLLYLSSFVVAAIICWKKYKVEIFSQLNGNIVGIAVIWRELLLALVLTCLACALIVLLLDAIAEYFLTMKDMKMDKEEVKREMKEQEGNPEVKSKRREVHMEILSEQVKSDIENSRLIVANPTHITIGIYFKPELMPIPMISVYETNQRALAVRAYAEKVGVPVIVDIKLARSLFKTHRRYDLVSLEEIDEVLRLLVWLEEVENAGKDVIQPQENEVRH']"
   ]
  },
  {
   "cell_type": "code",
   "execution_count": null,
   "id": "c68eff8d-37b5-412d-9a24-f4fa59e1799e",
   "metadata": {},
   "outputs": [],
   "source": []
  }
 ],
 "metadata": {
  "kernelspec": {
   "display_name": "Python 3 (ipykernel)",
   "language": "python",
   "name": "python3"
  },
  "language_info": {
   "codemirror_mode": {
    "name": "ipython",
    "version": 3
   },
   "file_extension": ".py",
   "mimetype": "text/x-python",
   "name": "python",
   "nbconvert_exporter": "python",
   "pygments_lexer": "ipython3",
   "version": "3.12.5"
  }
 },
 "nbformat": 4,
 "nbformat_minor": 5
}
